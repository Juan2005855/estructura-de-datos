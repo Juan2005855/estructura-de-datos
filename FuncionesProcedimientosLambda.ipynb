{
  "nbformat": 4,
  "nbformat_minor": 0,
  "metadata": {
    "colab": {
      "provenance": [],
      "include_colab_link": true
    },
    "kernelspec": {
      "name": "python3",
      "display_name": "Python 3"
    },
    "language_info": {
      "name": "python"
    }
  },
  "cells": [
    {
      "cell_type": "markdown",
      "metadata": {
        "id": "view-in-github",
        "colab_type": "text"
      },
      "source": [
        "<a href=\"https://colab.research.google.com/github/Juan2005855/estructura-de-datos/blob/main/FuncionesProcedimientosLambda.ipynb\" target=\"_parent\"><img src=\"https://colab.research.google.com/assets/colab-badge.svg\" alt=\"Open In Colab\"/></a>"
      ]
    },
    {
      "cell_type": "markdown",
      "source": [
        "##Funciones y procedimientos"
      ],
      "metadata": {
        "id": "qzUOx6JIbxvL"
      }
    },
    {
      "cell_type": "code",
      "source": [
        "# Función\n",
        "def NombreFuncion(parametros):\n",
        "  instrucciones = parametros\n",
        "  return instrucciones"
      ],
      "metadata": {
        "id": "IhO8dmspFpwr"
      },
      "execution_count": null,
      "outputs": []
    },
    {
      "cell_type": "code",
      "source": [
        "x = 2\n",
        "y = 3\n",
        "def suma(x,y):\n",
        "  return x,y,x+y\n",
        "print(suma(x,y))"
      ],
      "metadata": {
        "colab": {
          "base_uri": "https://localhost:8080/"
        },
        "id": "hvngcWiVHPuW",
        "outputId": "58b45018-dbb6-402d-ea09-bcfceb53508b"
      },
      "execution_count": null,
      "outputs": [
        {
          "output_type": "stream",
          "name": "stdout",
          "text": [
            "(2, 3, 5)\n"
          ]
        }
      ]
    },
    {
      "cell_type": "code",
      "source": [
        "# Procedimiento\n",
        "def NombreProcedimiento(parametros):\n",
        "  parametros = 10\n",
        "  print(parametros)"
      ],
      "metadata": {
        "id": "fZ_onu3THoW3"
      },
      "execution_count": null,
      "outputs": []
    },
    {
      "cell_type": "code",
      "source": [
        "def sumap(x,y) :\n",
        "  sumat = 0\n",
        "  sumat  += x\n",
        "  for i in range (len(y)):\n",
        "    sumat += y[i]\n",
        "  print(sumat)"
      ],
      "metadata": {
        "id": "T0e5DERBJL7X"
      },
      "execution_count": null,
      "outputs": []
    },
    {
      "cell_type": "code",
      "source": [
        "sumap(4,[3,4,5,6])"
      ],
      "metadata": {
        "colab": {
          "base_uri": "https://localhost:8080/"
        },
        "id": "b5BTYX5zJYug",
        "outputId": "14dbe699-aa48-4255-ddcc-f989df3df427"
      },
      "execution_count": null,
      "outputs": [
        {
          "output_type": "stream",
          "name": "stdout",
          "text": [
            "22\n"
          ]
        }
      ]
    },
    {
      "cell_type": "code",
      "source": [
        "# Escribe una función que tome el radio de un círculo como argumento y devuelva su área y perímetro\n",
        "def area_perimetro_circulo(radio):\n",
        "    area = 3.14 * (radio ** 2)\n",
        "    perimetro = 2 * 3.14 * radio\n",
        "    return area, perimetro\n"
      ],
      "metadata": {
        "id": "3G7WSuiRJUmd"
      },
      "execution_count": null,
      "outputs": []
    },
    {
      "cell_type": "code",
      "source": [
        "radioIngresado = float(input(\"ingrese el radio: \"))\n",
        "area, perimetro = area_perimetro_circulo(radioIngresado)\n",
        "print(f\"El área del círculo es: {area}\")\n",
        "print(f\"El perímetro del círculo es: {perimetro}\")"
      ],
      "metadata": {
        "colab": {
          "base_uri": "https://localhost:8080/"
        },
        "id": "_dIXI8P_MKvu",
        "outputId": "1f7e2e46-bdb7-44c5-c6ba-14e652e7456b"
      },
      "execution_count": null,
      "outputs": [
        {
          "output_type": "stream",
          "name": "stdout",
          "text": [
            "ingrese el radio: 3.8\n",
            "El área del círculo es: 45.3416\n",
            "El perímetro del círculo es: 23.864\n"
          ]
        }
      ]
    },
    {
      "cell_type": "markdown",
      "source": [
        "### Funciones lambda\n",
        "\n",
        "f = lambda parámetros: expresión de la función f"
      ],
      "metadata": {
        "id": "j0j42YbHeQvN"
      }
    },
    {
      "cell_type": "code",
      "source": [
        "# Crear una función\n",
        "f = lambda k,t: 3*k*t\n",
        "f(7,2)"
      ],
      "metadata": {
        "id": "D_RtjN1Yb43c",
        "colab": {
          "base_uri": "https://localhost:8080/"
        },
        "outputId": "c0720d84-d424-41c6-cb0d-d537c459571f"
      },
      "execution_count": null,
      "outputs": [
        {
          "output_type": "execute_result",
          "data": {
            "text/plain": [
              "42"
            ]
          },
          "metadata": {},
          "execution_count": 18
        }
      ]
    },
    {
      "cell_type": "code",
      "source": [
        "import math as m\n",
        "# Ejemplo 2\n",
        "d = lambda a,b,c: m.sqrt(b*b - 4*a*c)"
      ],
      "metadata": {
        "id": "hCF2FPQven7o"
      },
      "execution_count": null,
      "outputs": []
    },
    {
      "cell_type": "code",
      "source": [
        "# Probar función\n",
        "d(1,5,3)"
      ],
      "metadata": {
        "id": "ipA_tdQWepCb"
      },
      "execution_count": null,
      "outputs": []
    },
    {
      "cell_type": "code",
      "source": [
        "cuadrado = lambda x: x**2\n",
        "cuadrado(4)"
      ],
      "metadata": {
        "id": "PURME_u-duwu"
      },
      "execution_count": null,
      "outputs": []
    },
    {
      "cell_type": "markdown",
      "source": [
        "### Ejercicio 1\n",
        "\n",
        "Elabore un programa que mediante funciones permita realizar las cuatro operaciones aritméticas básicas. Implementelo mediante funciones def y lambda."
      ],
      "metadata": {
        "id": "dsSvgdH5mxL-"
      }
    },
    {
      "cell_type": "markdown",
      "source": [
        "#### Código"
      ],
      "metadata": {
        "id": "T4xgXt54pJ9f"
      }
    },
    {
      "cell_type": "code",
      "source": [
        "a = int(input(\"Ingrese el primer número: \"))\n",
        "b = int(input(\"Ingrese el segundo número: \"))\n",
        "suma = lambda a,b: a+b\n",
        "resta = lambda a,b: a-b\n",
        "multiplicacion = lambda a,b: a*b\n",
        "division = lambda a,b: a/b\n"
      ],
      "metadata": {
        "id": "_xvWRBoDRBnO"
      },
      "execution_count": null,
      "outputs": []
    },
    {
      "cell_type": "code",
      "source": [
        "print(suma(a,b))\n",
        "print(resta(a,b))\n",
        "print(multiplicacion(a,b))\n",
        "print(division(a,b))"
      ],
      "metadata": {
        "colab": {
          "base_uri": "https://localhost:8080/"
        },
        "id": "DBP7sCUxRVFv",
        "outputId": "ca3ebeb0-8443-4ee3-f408-26056998f208"
      },
      "execution_count": null,
      "outputs": [
        {
          "output_type": "stream",
          "name": "stdout",
          "text": [
            "9\n",
            "-1\n",
            "20\n",
            "0.8\n"
          ]
        }
      ]
    },
    {
      "cell_type": "code",
      "source": [
        "# Ingrese el código\n",
        "a = int(input(\"Ingrese el primer número: \"))\n",
        "b = int(input(\"Ingrese el segundo número: \"))\n",
        "def suma(a,b):\n",
        "  return a+b\n",
        "def resta(a,b):\n",
        "  return a-b\n",
        "def multiplicacion(a,b):\n",
        "  return a*b\n",
        "def division(a,b):\n",
        "  return a/b\n"
      ],
      "metadata": {
        "id": "pCvqUEmmnRrH",
        "colab": {
          "base_uri": "https://localhost:8080/"
        },
        "outputId": "6e46fb04-a15d-48a3-aa3f-0a7b9da34fac"
      },
      "execution_count": null,
      "outputs": [
        {
          "name": "stdout",
          "output_type": "stream",
          "text": [
            "Ingrese el primer número: 4\n",
            "Ingrese el segundo número: 5\n"
          ]
        }
      ]
    },
    {
      "cell_type": "code",
      "source": [
        "print(suma(a,b))\n",
        "print(resta(a,b))\n",
        "print(multiplicacion(a,b))\n",
        "print(division(a,b))"
      ],
      "metadata": {
        "colab": {
          "base_uri": "https://localhost:8080/"
        },
        "id": "7SAdDVdDPh49",
        "outputId": "871bd69d-841c-4dc6-9d18-43f4f5b9a009"
      },
      "execution_count": null,
      "outputs": [
        {
          "output_type": "stream",
          "name": "stdout",
          "text": [
            "9\n",
            "-1\n",
            "20\n",
            "0.8\n"
          ]
        }
      ]
    },
    {
      "cell_type": "code",
      "source": [
        "def calculos (a,b,operacion):\n",
        "  if operacion == 1:\n",
        "    return a+b\n",
        "  elif operacion == 2:\n",
        "    return a-b\n",
        "  elif operacion == 3:\n",
        "    return a*b\n",
        "  elif operacion == 4:\n",
        "    return a/b\n",
        "  else:\n",
        "    return \"Operación no válida\""
      ],
      "metadata": {
        "id": "b-fCPHKURw19"
      },
      "execution_count": null,
      "outputs": []
    },
    {
      "cell_type": "code",
      "source": [
        "a= int (input(\"Ingrese el primer número: \"))\n",
        "b= int (input(\"Ingrese el segundo número: \"))\n",
        "while True:\n",
        "  print(\"1. Suma\")\n",
        "  print(\"2. Resta\")\n",
        "  print(\"3. Multiplicación\")\n",
        "  print(\"4. División\")\n",
        "  print(\"5. Salir\")"
      ],
      "metadata": {
        "id": "PTqRvvT6R-h1"
      },
      "execution_count": null,
      "outputs": []
    },
    {
      "cell_type": "markdown",
      "source": [
        "Ahora elabore una calculadora de operaciones lógicas (not, and, or) con la versión def y lambda"
      ],
      "metadata": {
        "id": "5rVDzvrYnXuX"
      }
    },
    {
      "cell_type": "markdown",
      "source": [
        "#### Código"
      ],
      "metadata": {
        "id": "Zyt7w40KpOiW"
      }
    },
    {
      "cell_type": "code",
      "source": [
        "# Código aquí\n",
        "f_not = lambda x: not(x)\n",
        "print(f_not(True))\n",
        "f_and = lambda z,y: z and y\n",
        "print(f_and(True,True))\n",
        "f_or = lambda a,b: a or b\n",
        "print(f_or(True,False))"
      ],
      "metadata": {
        "id": "F8bylkxanmSU"
      },
      "execution_count": null,
      "outputs": []
    },
    {
      "cell_type": "markdown",
      "source": [
        "### LLamada por valor y llamado por referencia"
      ],
      "metadata": {
        "id": "YSWrjCkyf2jv"
      }
    },
    {
      "cell_type": "code",
      "source": [
        "def procedimiento(x):\n",
        "  x=3\n",
        "x=12\n",
        "procedimiento(x)\n",
        "print(x)"
      ],
      "metadata": {
        "id": "z7T7x8igfSxL"
      },
      "execution_count": null,
      "outputs": []
    },
    {
      "cell_type": "code",
      "source": [
        "def procedimiento(x):\n",
        "  x.append(5)\n",
        "\n",
        "x=[1,2]\n",
        "procedimiento(x)\n",
        "print(x)"
      ],
      "metadata": {
        "id": "DD5aXH6ngDlW"
      },
      "execution_count": null,
      "outputs": []
    },
    {
      "cell_type": "markdown",
      "source": [
        "### Variables locales y globales"
      ],
      "metadata": {
        "id": "YeAQMveggVrv"
      }
    },
    {
      "cell_type": "markdown",
      "source": [
        "Las variables que se definen en el programa principal se pueden usar en las funciones o procedimientos que las reciben como argumentos. Por otro lado, las variables que se definen dentro de una función solamente son válidas dentro de esa función. A las variables de una función se les llama **variables locales**"
      ],
      "metadata": {
        "id": "Dy2Pn2TbgjnY"
      }
    },
    {
      "cell_type": "code",
      "source": [
        "def f(x):\n",
        "  x = x+1\n",
        "  print('Valor de x dentro de f=',x)\n",
        "  return x\n",
        "\n",
        "x=3\n",
        "print('Valor inicial de x=',x)\n",
        "z=f(x)\n",
        "print('Valor de x después de llamar a f(x):',x)"
      ],
      "metadata": {
        "id": "mhwl7i45gRkj"
      },
      "execution_count": null,
      "outputs": []
    },
    {
      "cell_type": "markdown",
      "source": [
        "#### Variables globales\n",
        "\n",
        "Son aquellas que no importa donde se usen o modifiquen siempre conservan los valores asignados, ya sea en el algoritmo principal o en las funciones o procedimientos."
      ],
      "metadata": {
        "id": "GOWI8FDdiI11"
      }
    },
    {
      "cell_type": "code",
      "source": [
        "def f():\n",
        "  global x\n",
        "  x=x+1\n",
        "  print('Valor de x dentro de f=',x)\n",
        "  return x\n",
        "\n",
        "x=3\n",
        "print('Valor inicial de x=',x)\n",
        "z=f()\n",
        "print('Valor de x después de llamar a f(x). x=',x)"
      ],
      "metadata": {
        "id": "R0xeHxrgh6b4"
      },
      "execution_count": null,
      "outputs": []
    },
    {
      "cell_type": "markdown",
      "source": [
        "### Ejercicio 2\n",
        "\n",
        "La serie Fibonacci es una serie donde a partir del tercer término cada elemento se puede obtener mediante la suma de los dos anteriores términos de la serie. El primer elemento de la serie es 0, el segundo término es 1. Elabore una función que calcule la serie de Fibonacci."
      ],
      "metadata": {
        "id": "tYgJsfHqphiD"
      }
    },
    {
      "cell_type": "markdown",
      "source": [
        "####Respuesta"
      ],
      "metadata": {
        "id": "oZEtQg6BxhQi"
      }
    },
    {
      "cell_type": "code",
      "source": [
        "def fibonacci(n):\n",
        "    serie = []\n",
        "\n",
        "    # Primeros dos términos\n",
        "    if n >= 1:\n",
        "        serie.append(0)\n",
        "    if n >= 2:\n",
        "        serie.append(1)\n",
        "\n",
        "    # Calcular el resto de la serie\n",
        "    for i in range(2, n):\n",
        "        siguiente = serie[i-1] + serie[i-2]\n",
        "        serie.append(siguiente)\n",
        "\n",
        "    return serie\n",
        "\n",
        "\n"
      ],
      "metadata": {
        "id": "qkTzXv1Yi0Uu"
      },
      "execution_count": 9,
      "outputs": []
    },
    {
      "cell_type": "code",
      "source": [
        "fibonacci(10)"
      ],
      "metadata": {
        "id": "nbo27ZpOlEdE",
        "colab": {
          "base_uri": "https://localhost:8080/"
        },
        "outputId": "11a5866c-6468-4140-a387-71021932d99b"
      },
      "execution_count": 12,
      "outputs": [
        {
          "output_type": "execute_result",
          "data": {
            "text/plain": [
              "[0, 1, 1, 2, 3, 5, 8, 13, 21, 34]"
            ]
          },
          "metadata": {},
          "execution_count": 12
        }
      ]
    },
    {
      "cell_type": "markdown",
      "source": [
        "###Ejercicio 3\n",
        "\n",
        "Escriba una función que genere los pirmeros n números primos."
      ],
      "metadata": {
        "id": "MOKE16-QJFlV"
      }
    },
    {
      "cell_type": "code",
      "source": [
        "# Escriba una función que genere los pirmeros n números primos.\n",
        "def es_primo (numero):\n",
        "  if numero <=1:\n",
        "    return False\n",
        "  for i in range (2,numero):\n",
        "    if numero % i == 0:\n",
        "      return False\n",
        "  return True\n",
        "def primeros_primos(n):\n",
        "    primos = []\n",
        "    num = 2\n",
        "    while len(primos) < n:\n",
        "        if es_primo(num):\n",
        "            primos.append(num)\n",
        "        num += 1\n",
        "    return primos\n",
        "\n",
        "n = int(input(\"Ingrese cuántos números primos desea: \"))\n",
        "print(\"Los primeros\", n, \"números primos son:\")\n",
        "print(primeros_primos(n))"
      ],
      "metadata": {
        "id": "WfQZp5jfJRDs",
        "colab": {
          "base_uri": "https://localhost:8080/"
        },
        "outputId": "2de17604-ac08-4045-8d4b-d3b7527a86cc"
      },
      "execution_count": 41,
      "outputs": [
        {
          "output_type": "stream",
          "name": "stdout",
          "text": [
            "Ingrese cuántos números primos desea: 10\n",
            "Los primeros 10 números primos son:\n",
            "[2, 3, 5, 7, 11, 13, 17, 19, 23, 29]\n"
          ]
        }
      ]
    }
  ]
}