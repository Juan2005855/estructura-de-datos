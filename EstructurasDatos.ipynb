{
  "cells": [
    {
      "cell_type": "markdown",
      "metadata": {
        "id": "view-in-github",
        "colab_type": "text"
      },
      "source": [
        "<a href=\"https://colab.research.google.com/github/Juan2005855/estructura-de-datos/blob/main/EstructurasDatos.ipynb\" target=\"_parent\"><img src=\"https://colab.research.google.com/assets/colab-badge.svg\" alt=\"Open In Colab\"/></a>"
      ]
    },
    {
      "cell_type": "markdown",
      "metadata": {
        "id": "lHus3bvgDKWQ"
      },
      "source": [
        "# Estructuras de datos\n",
        "\n",
        "Una estructura de datos es una forma organizada de almacenar y manejar información para que pueda ser utilizada de manera eficiente."
      ]
    },
    {
      "cell_type": "markdown",
      "metadata": {
        "id": "cwQEMhzsDKWV"
      },
      "source": [
        "## Listas\n",
        "Las listas son un tipo de colección que sirve para almacenar cualquier tipo de datos. Se caracterizan por ser mutables e indexadas. Mediante arreglos de listas de listas se puede simular el comportamiento de Matrices. Adicionalmente python incorpora la clase list, la cual incorpora métodos para el manejo de los datos que hacen parte de la lista. En este cuaderno verificaremos el procesamiento básico de listas y las funcionalidades otorgadas por la clase list."
      ]
    },
    {
      "cell_type": "code",
      "execution_count": null,
      "metadata": {
        "id": "wyxPmjWPDKWW",
        "colab": {
          "base_uri": "https://localhost:8080/"
        },
        "outputId": "20a9614f-2471-475e-8ede-fba9ed2dda98"
      },
      "outputs": [
        {
          "output_type": "stream",
          "name": "stdout",
          "text": [
            "[2, 3]\n",
            "[]\n",
            "[1, 2, 3]\n"
          ]
        }
      ],
      "source": [
        "# Para crear listas se pueden seguir varios métodos\n",
        "miLista = [2,3]    # Lista vacía. Note el uso de los corchetes\n",
        "print(miLista)\n",
        "miLista = list() # Otra lista vacía. Note que de esta manera se instancia una lista\n",
        "print(miLista)\n",
        "miLista = [1, 2, 3,5,6]\n",
        "print(miLista)"
      ]
    },
    {
      "cell_type": "code",
      "source": [
        "listaNueva = [1, 2.5, \"String\", True]"
      ],
      "metadata": {
        "id": "6feQuvLweBEy"
      },
      "execution_count": null,
      "outputs": []
    },
    {
      "cell_type": "code",
      "source": [
        "listaNueva[0]"
      ],
      "metadata": {
        "id": "tVy8805JeJpE",
        "colab": {
          "base_uri": "https://localhost:8080/"
        },
        "outputId": "3769e455-18a7-4142-971d-7f8847720a58"
      },
      "execution_count": null,
      "outputs": [
        {
          "output_type": "execute_result",
          "data": {
            "text/plain": [
              "1"
            ]
          },
          "metadata": {},
          "execution_count": 4
        }
      ]
    },
    {
      "cell_type": "code",
      "execution_count": null,
      "metadata": {
        "id": "C6fB6HCyDKWY"
      },
      "outputs": [],
      "source": [
        "# Observemos ahora la indexación de las listas\n",
        "print(miLista[2])  # Imprimir el valor en el indice 0\n",
        "print(miLista[-2]) # Note el uso de indices negativos\n",
        "print(miLista[1:4]) # También se pueden utilizar rangos de indices"
      ]
    },
    {
      "cell_type": "code",
      "source": [
        "print(miLista[-4])"
      ],
      "metadata": {
        "id": "QX3_oM_BLnY7"
      },
      "execution_count": null,
      "outputs": []
    },
    {
      "cell_type": "code",
      "execution_count": null,
      "metadata": {
        "id": "U80CkSiIDKWZ",
        "colab": {
          "base_uri": "https://localhost:8080/"
        },
        "outputId": "b89798b5-3780-4b9c-97d7-17d29274e662"
      },
      "outputs": [
        {
          "output_type": "stream",
          "name": "stdout",
          "text": [
            "2\n"
          ]
        }
      ],
      "source": [
        "# Observe que ocurre en este caso\n",
        "print(miLista[-2])"
      ]
    },
    {
      "cell_type": "code",
      "source": [
        "miLista"
      ],
      "metadata": {
        "id": "cm2Bqf4whUAV",
        "colab": {
          "base_uri": "https://localhost:8080/"
        },
        "outputId": "c631f10e-1b53-4745-9990-072b9ad8fac7"
      },
      "execution_count": null,
      "outputs": [
        {
          "output_type": "execute_result",
          "data": {
            "text/plain": [
              "[1, 2, 3]"
            ]
          },
          "metadata": {},
          "execution_count": 7
        }
      ]
    },
    {
      "cell_type": "code",
      "execution_count": null,
      "metadata": {
        "id": "sGwnUfYDDKWa",
        "colab": {
          "base_uri": "https://localhost:8080/"
        },
        "outputId": "9b0ee5ee-fc66-4145-d61d-f9e85238bb93"
      },
      "outputs": [
        {
          "output_type": "stream",
          "name": "stdout",
          "text": [
            "[5, 1, 7, '10000']\n"
          ]
        }
      ],
      "source": [
        "# Miremos ahora la mutabilidad de las listas\n",
        "miLista[2] = 7\n",
        "print(miLista)"
      ]
    },
    {
      "cell_type": "markdown",
      "source": [
        "#### **Ejercicio 1**\n",
        "\n",
        "Suma los elementos en la lista [2, 4, 7, 10, 11, 31, 14, 17, 45, 100]"
      ],
      "metadata": {
        "id": "fJ-eD4EBp_ty"
      }
    },
    {
      "cell_type": "code",
      "source": [
        "# Solución del ejercicio 1\n",
        "lista = [2, 4, 7, 10, 11, 31, 14, 17, 45, 100]\n",
        "suma = 0\n",
        "for i in lista:\n",
        "    suma = suma + i\n",
        "print(suma)"
      ],
      "metadata": {
        "id": "tScz8zZbGMib",
        "colab": {
          "base_uri": "https://localhost:8080/"
        },
        "outputId": "bb00918c-9798-4742-c80a-f028e72b67ed"
      },
      "execution_count": null,
      "outputs": [
        {
          "output_type": "stream",
          "name": "stdout",
          "text": [
            "241\n"
          ]
        }
      ]
    },
    {
      "cell_type": "code",
      "execution_count": null,
      "metadata": {
        "id": "cG4KgO2VDKWb",
        "colab": {
          "base_uri": "https://localhost:8080/"
        },
        "outputId": "78503a70-2106-4582-a7b5-fd789765658f"
      },
      "outputs": [
        {
          "output_type": "stream",
          "name": "stdout",
          "text": [
            "[5, 1, 'Hola mundo', '10000']\n"
          ]
        }
      ],
      "source": [
        "# Miremos también la posibilidad de almacenar diferentes tipos de datos\n",
        "miLista[2] = \"Hola mundo\"\n",
        "print(miLista)"
      ]
    },
    {
      "cell_type": "code",
      "execution_count": null,
      "metadata": {
        "id": "vlA6M5LVDKWb",
        "colab": {
          "base_uri": "https://localhost:8080/"
        },
        "outputId": "463101ec-88e6-4655-8920-1c7ab74947d1"
      },
      "outputs": [
        {
          "output_type": "stream",
          "name": "stdout",
          "text": [
            "Hol\n"
          ]
        }
      ],
      "source": [
        "# Ahora recordemos que los strings se comportan de manera similar a una lista\n",
        "print(miLista[2][0:3])"
      ]
    },
    {
      "cell_type": "code",
      "execution_count": null,
      "metadata": {
        "id": "Sn2qnwhYDKWc"
      },
      "outputs": [],
      "source": [
        "# otra forma de acceder a los datos desde el comienzo hasta determinado\n",
        "# indice o desde determinado indice hasta el final es mediante :\n",
        "print(miLista[:2])\n",
        "print(miLista[2:])"
      ]
    },
    {
      "cell_type": "code",
      "execution_count": null,
      "metadata": {
        "id": "DEEF_6UUDKWd"
      },
      "outputs": [],
      "source": [
        "# Mediante indices, también se pueden insertar nuevos elementos en una lista\n",
        "# o reemplazar algunos ya existentes\n",
        "# por ejemplo:\n",
        "miLista[5:] = [\"10000\"]\n",
        "print(miLista)\n",
        "miLista[1:3] = [1,2]\n",
        "print(miLista)"
      ]
    },
    {
      "cell_type": "code",
      "execution_count": null,
      "metadata": {
        "id": "bCnIPTEpDKWd",
        "colab": {
          "base_uri": "https://localhost:8080/"
        },
        "outputId": "cabaca04-901b-4634-98ef-3b263eced88e"
      },
      "outputs": [
        {
          "output_type": "stream",
          "name": "stdout",
          "text": [
            "False\n",
            "True\n"
          ]
        }
      ],
      "source": [
        "# Mediante listas también se pueden realizar operaciones relacionales\n",
        "otraLista = [1, 2, 3]\n",
        "#print(miLista==otraLista)\n",
        "#print(miLista!=otraLista)\n",
        "\n",
        "listaA = [1, 2, 3]\n",
        "listaB = [1, 2, 5]\n",
        "print(listaA > listaB)\n",
        "print(listaA < listaB)"
      ]
    },
    {
      "cell_type": "code",
      "execution_count": null,
      "metadata": {
        "id": "B0pcYL_7DKWe",
        "colab": {
          "base_uri": "https://localhost:8080/"
        },
        "outputId": "b557d3b1-1b5b-496f-8c8b-ff841b79bf8d"
      },
      "outputs": [
        {
          "output_type": "stream",
          "name": "stdout",
          "text": [
            "[1, 2, 3]\n"
          ]
        }
      ],
      "source": [
        "# Observemos ahora lo siguiente>\n",
        "listaC = listaA\n",
        "print(listaC)\n",
        "# ¿Será listaC una auténtica copia de listaA?"
      ]
    },
    {
      "cell_type": "code",
      "execution_count": null,
      "metadata": {
        "id": "82oYuDGpDKWe",
        "colab": {
          "base_uri": "https://localhost:8080/"
        },
        "outputId": "5d6b068c-8025-4351-e28f-80a77369607f"
      },
      "outputs": [
        {
          "output_type": "stream",
          "name": "stdout",
          "text": [
            "5\n",
            "[1, 2, 3]\n"
          ]
        }
      ],
      "source": [
        "# Miremos lo siguiente:\n",
        "listaA[0] = 5\n",
        "print(listaC[0])\n",
        "listaC[0] = 1\n",
        "print(listaA)"
      ]
    },
    {
      "cell_type": "code",
      "execution_count": null,
      "metadata": {
        "id": "DkUT-lMWDKWe",
        "colab": {
          "base_uri": "https://localhost:8080/"
        },
        "outputId": "251b0854-c7d0-49a2-b307-0c3f91ed9c7e"
      },
      "outputs": [
        {
          "output_type": "stream",
          "name": "stdout",
          "text": [
            "[1, 2, 3]\n",
            "[5, 2, 3]\n"
          ]
        }
      ],
      "source": [
        "listaC = listaA[:]\n",
        "listaA[0] = 5\n",
        "print(listaC)\n",
        "print(listaA)\n",
        "\n",
        "# Note que en este caso las modificaciones en listaA no afectan a listaC"
      ]
    },
    {
      "cell_type": "code",
      "execution_count": null,
      "metadata": {
        "id": "_zFDgHm2DKWf",
        "colab": {
          "base_uri": "https://localhost:8080/"
        },
        "outputId": "cc73c44b-4deb-4c1d-dd1a-465ed114655f"
      },
      "outputs": [
        {
          "output_type": "stream",
          "name": "stdout",
          "text": [
            "[5, 2, 3]\n",
            "[5, 2, 3]\n"
          ]
        }
      ],
      "source": [
        "# otra forma de hacerlo es mediante el método copy de la clase list\n",
        "listaC = listaA.copy()\n",
        "print(listaC)\n",
        "print(listaA)"
      ]
    },
    {
      "cell_type": "markdown",
      "source": [
        "#### **Ejercicio 2**\n",
        "Encontrar el elemento máximo de la lista [14, 8, 21, 6, 42, 35]"
      ],
      "metadata": {
        "id": "9oRX6HNyrL0A"
      }
    },
    {
      "cell_type": "code",
      "source": [
        "# Solución ejercicio 2\n",
        "#Encontrar el elemento máximo de la lista [14, 8, 21, 6, 42, 35]\n",
        "lista = [14, 8, 21, 6, 42, 35]\n",
        "max = lista[0]\n",
        "for i in range(len(lista)):\n",
        "    if lista[i] > max:\n",
        "        max = lista[i]\n",
        "print(max)"
      ],
      "metadata": {
        "id": "KaBYE4EqIUbj",
        "colab": {
          "base_uri": "https://localhost:8080/"
        },
        "outputId": "6f2f7bdd-81c4-4d30-81d8-53e37864b839"
      },
      "execution_count": null,
      "outputs": [
        {
          "output_type": "stream",
          "name": "stdout",
          "text": [
            "42\n"
          ]
        }
      ]
    },
    {
      "cell_type": "markdown",
      "source": [
        "#### **Ejercicio 3**\n",
        "Contar los elementos pares e impares de la lista [11, 20, 33, 44, 54, 74, 12, 6, 2, 10]"
      ],
      "metadata": {
        "id": "ivTs96m_w511"
      }
    },
    {
      "cell_type": "code",
      "source": [
        "# Solución ejercicio 3\n",
        "#Contar los elementos pares e impares de la lista [11, 20, 33, 44, 54, 74, 12, 6, 2, 10]\n",
        "lista = [11, 20, 33, 44, 54, 74, 12, 6, 2, 10]\n",
        "pares = 0\n",
        "impares = 0\n",
        "for i in range (len (lista)):\n",
        "    if lista[i] % 2 == 0:\n",
        "        pares += 1\n",
        "    else:\n",
        "        impares += 1\n",
        "print (\"La lista tiene\", pares, \"elementos pares y\", impares, \"elementos impares\")\n",
        "print (\"La lista tiene\", len(lista), \"elementos\")"
      ],
      "metadata": {
        "id": "-I43rUg9IXje",
        "colab": {
          "base_uri": "https://localhost:8080/"
        },
        "outputId": "19c4a5b2-73fc-4dfb-f4a3-27651e463c92"
      },
      "execution_count": null,
      "outputs": [
        {
          "output_type": "stream",
          "name": "stdout",
          "text": [
            "La lista tiene 8 elementos pares y 2 elementos impares\n",
            "La lista tiene 10 elementos\n"
          ]
        }
      ]
    },
    {
      "cell_type": "markdown",
      "metadata": {
        "id": "-ECmb0-oDKWf"
      },
      "source": [
        "## Otros métodos de la clase list"
      ]
    },
    {
      "cell_type": "code",
      "source": [
        "listaA"
      ],
      "metadata": {
        "colab": {
          "base_uri": "https://localhost:8080/"
        },
        "id": "YkXt5NmrZaOP",
        "outputId": "a9ed199d-3296-45f6-c57d-5a6953227af1"
      },
      "execution_count": null,
      "outputs": [
        {
          "output_type": "execute_result",
          "data": {
            "text/plain": [
              "[5, 'Dato insertado', 2, 3, 5, 2]"
            ]
          },
          "metadata": {},
          "execution_count": 71
        }
      ]
    },
    {
      "cell_type": "code",
      "execution_count": null,
      "metadata": {
        "id": "GnWnrV8ADKWf",
        "colab": {
          "base_uri": "https://localhost:8080/"
        },
        "outputId": "87d6113a-2b8b-44c5-f859-dfd070eb2817"
      },
      "outputs": [
        {
          "output_type": "stream",
          "name": "stdout",
          "text": [
            "[5, 'Dato insertado', 2, 3, 5, 2, 'Esto es un String']\n"
          ]
        }
      ],
      "source": [
        "# método append\n",
        "listaA.append(\"Esto es un String\") # permite agregar un elemento en la ultima posicion\n",
        "print(listaA)\n"
      ]
    },
    {
      "cell_type": "code",
      "source": [
        "listaC"
      ],
      "metadata": {
        "id": "pWLgIrK_wrfg",
        "colab": {
          "base_uri": "https://localhost:8080/"
        },
        "outputId": "1a8c5ba6-52d6-4291-e758-debb2cdf24db"
      },
      "execution_count": null,
      "outputs": [
        {
          "output_type": "execute_result",
          "data": {
            "text/plain": [
              "[5, 2, 3]"
            ]
          },
          "metadata": {},
          "execution_count": 22
        }
      ]
    },
    {
      "cell_type": "code",
      "execution_count": null,
      "metadata": {
        "id": "p4sxbn8cDKWg",
        "colab": {
          "base_uri": "https://localhost:8080/"
        },
        "outputId": "d6258271-18ae-44df-c974-c9873e7991c5"
      },
      "outputs": [
        {
          "output_type": "stream",
          "name": "stdout",
          "text": [
            "[5, 2, 3, 'Esto es un String', 5, 2, 3]\n"
          ]
        }
      ],
      "source": [
        "# método extend\n",
        "listaA.extend(listaC) # es para agregar los elemento de una lista a otra lista\n",
        "print(listaA)"
      ]
    },
    {
      "cell_type": "code",
      "source": [
        "listaC.extend(listaA)"
      ],
      "metadata": {
        "id": "mCL5ZqA2n6Ra"
      },
      "execution_count": null,
      "outputs": []
    },
    {
      "cell_type": "code",
      "source": [
        "print(listaC)"
      ],
      "metadata": {
        "id": "WTW_aDRbn02Z",
        "colab": {
          "base_uri": "https://localhost:8080/"
        },
        "outputId": "24b2a262-d921-468d-9562-87eed3abf381"
      },
      "execution_count": null,
      "outputs": [
        {
          "output_type": "stream",
          "name": "stdout",
          "text": [
            "[5, 2, 3, 5, 2, 3, 'Esto es un String', 5, 2, 3]\n"
          ]
        }
      ]
    },
    {
      "cell_type": "code",
      "execution_count": null,
      "metadata": {
        "id": "zA-7gyXdDKWg",
        "colab": {
          "base_uri": "https://localhost:8080/"
        },
        "outputId": "f3f6e759-1c38-45f4-e43f-f344069da7e3"
      },
      "outputs": [
        {
          "output_type": "stream",
          "name": "stdout",
          "text": [
            "[5, 'Dato insertado', 2, 3, 'Esto es un String', 5, 2, 3]\n"
          ]
        }
      ],
      "source": [
        "# método insert\n",
        "listaA.insert(1,\"Dato insertado\") # se inserta el elemendo es uno pocicion especifica\n",
        "print(listaA)"
      ]
    },
    {
      "cell_type": "markdown",
      "source": [
        "#### **Ejercicio 4**\n",
        "Dada una lista de números, utiliza un método para crear una nueva lista que contenga el doble de cada número en la lista original:\n",
        "\n",
        "[2, 7, 8, 10, 14, 3, 4, 20]"
      ],
      "metadata": {
        "id": "uvlS_qJOxgQd"
      }
    },
    {
      "cell_type": "code",
      "source": [
        "# Solución Ejercicio 4\n",
        "lista = [2, 7, 8, 10, 14, 3, 4, 20]\n",
        "lista2 = []\n",
        "for i in range(len(lista)):\n",
        "    lista2.append(lista[i]*2)\n",
        "print(lista2)\n",
        "lista.extend(lista2)\n",
        "print(lista)\n"
      ],
      "metadata": {
        "id": "JiD16nakIfCN",
        "colab": {
          "base_uri": "https://localhost:8080/"
        },
        "outputId": "ae8a7212-afbc-4c70-9fef-46599196611e"
      },
      "execution_count": null,
      "outputs": [
        {
          "output_type": "stream",
          "name": "stdout",
          "text": [
            "[4, 14, 16, 20, 28, 6, 8, 40]\n",
            "[2, 7, 8, 10, 14, 3, 4, 20, 4, 14, 16, 20, 28, 6, 8, 40]\n"
          ]
        }
      ]
    },
    {
      "cell_type": "code",
      "execution_count": null,
      "metadata": {
        "id": "PvD04ZXpDKWg"
      },
      "outputs": [],
      "source": [
        "# método index\n",
        "print(listaA.index(2)) #permite  saber la posicion"
      ]
    },
    {
      "cell_type": "code",
      "source": [
        "for i in listaA:\n",
        "  if i == 2:\n",
        "    print (\"Dato encontrado\")"
      ],
      "metadata": {
        "id": "TEsL1CTS9VyW"
      },
      "execution_count": null,
      "outputs": []
    },
    {
      "cell_type": "code",
      "execution_count": null,
      "metadata": {
        "id": "3Ob5QXlMDKWh",
        "colab": {
          "base_uri": "https://localhost:8080/"
        },
        "outputId": "35acf358-2a23-4e3e-a93a-55cc52033101"
      },
      "outputs": [
        {
          "output_type": "stream",
          "name": "stdout",
          "text": [
            "[5, 'Dato insertado', 2, 3, 5, 2, 3]\n"
          ]
        }
      ],
      "source": [
        "# método remove\n",
        "listaA.remove(\"Esto es un String\")\n",
        "print(listaA)"
      ]
    },
    {
      "cell_type": "code",
      "execution_count": null,
      "metadata": {
        "id": "JmPBm7CGDKWh",
        "colab": {
          "base_uri": "https://localhost:8080/"
        },
        "outputId": "b08cd5f3-c650-44e6-e731-bb2a8eb57d9e"
      },
      "outputs": [
        {
          "output_type": "stream",
          "name": "stdout",
          "text": [
            "[5, 'Dato insertado', 2, 3, 5, 2]\n"
          ]
        }
      ],
      "source": [
        "# método pop -> último valor y desde una posición en específico\n",
        "\n",
        "listaA.pop()\n",
        "print(listaA)"
      ]
    },
    {
      "cell_type": "markdown",
      "source": [
        "#### **Ejercicio 5**\n",
        "Dada una lista de números, utiliza un método para eliminar todos los elementos que sean iguales a un valor dado"
      ],
      "metadata": {
        "id": "HdSs85vUyAlk"
      }
    },
    {
      "cell_type": "code",
      "source": [
        "# Solución ejercicio 5\n",
        "lista = [2, 7, 8, 10, 14, 3, 4, 20,2]\n",
        "for i in lista:\n",
        "    if i == 7:\n",
        "        lista.remove(7)\n",
        "print(lista)\n"
      ],
      "metadata": {
        "id": "AVyoz_hkzZ6z",
        "colab": {
          "base_uri": "https://localhost:8080/"
        },
        "outputId": "85dae3f7-7c62-49a3-e899-5dc7fd3ff177"
      },
      "execution_count": null,
      "outputs": [
        {
          "output_type": "stream",
          "name": "stdout",
          "text": [
            "[2, 8, 10, 14, 3, 4, 20, 2]\n"
          ]
        }
      ]
    },
    {
      "cell_type": "code",
      "source": [
        "restaindx = 0\n",
        "lista = [2, 2, 8, 10, 14, 3, 4, 20,2]\n",
        "Valor = int(input ( \"ingrese el valor a eliminar: \"))\n",
        "for i in range(len(lista)):\n",
        "    if lista[i - restaindx] == Valor:\n",
        "        lista.pop(i - restaindx)\n",
        "        restaindx += 1\n",
        "print(lista)\n"
      ],
      "metadata": {
        "colab": {
          "base_uri": "https://localhost:8080/"
        },
        "id": "gz3OMhpFAjMn",
        "outputId": "e3243f95-cf72-4228-94b9-79b171aa9d54"
      },
      "execution_count": null,
      "outputs": [
        {
          "output_type": "stream",
          "name": "stdout",
          "text": [
            "ingrese el valor a eliminar: 2\n",
            "[8, 10, 14, 3, 4, 20]\n"
          ]
        }
      ]
    },
    {
      "cell_type": "code",
      "source": [
        "lista = [2, 2, 8, 10, 14, 3, 4, 20,2]\n",
        "Valor = int(input ( \"ingrese el valor a eliminar: \"))\n",
        "while Valor in lista:\n",
        "    lista.remove(Valor)\n",
        "print(lista)"
      ],
      "metadata": {
        "colab": {
          "base_uri": "https://localhost:8080/"
        },
        "id": "zND_TfckHwQg",
        "outputId": "2ebbf36c-384c-46df-8ba8-1862b61529a1"
      },
      "execution_count": null,
      "outputs": [
        {
          "output_type": "stream",
          "name": "stdout",
          "text": [
            "ingrese el valor a eliminar: 2\n",
            "[8, 10, 14, 3, 4, 20]\n"
          ]
        }
      ]
    },
    {
      "cell_type": "code",
      "execution_count": null,
      "metadata": {
        "id": "cR9pORODDKWh",
        "colab": {
          "base_uri": "https://localhost:8080/"
        },
        "outputId": "92a8b33d-8bff-45aa-e871-bd2ca980a540"
      },
      "outputs": [
        {
          "output_type": "stream",
          "name": "stdout",
          "text": [
            "[1, 3, 6, 7, 8, 9]\n"
          ]
        }
      ],
      "source": [
        "# métodos reverse y sort\n",
        "listaD = [1,3,9,7,6,8]\n",
        "listaD.sort()\n",
        "print(listaD)"
      ]
    },
    {
      "cell_type": "code",
      "execution_count": null,
      "metadata": {
        "id": "sdHUR-wLDKWi",
        "colab": {
          "base_uri": "https://localhost:8080/"
        },
        "outputId": "c89afe15-9679-430e-b39a-196c3b4af863"
      },
      "outputs": [
        {
          "output_type": "stream",
          "name": "stdout",
          "text": [
            "[9, 8, 7, 6, 3, 1]\n"
          ]
        }
      ],
      "source": [
        "listaD.reverse() # si se combina con el .sort ser crearia una lista de mayor a menor\n",
        "print(listaD)"
      ]
    },
    {
      "cell_type": "markdown",
      "source": [
        "## Tuplas\n",
        "Una tupla es una estructura de datos inmutable en Python que permite almacenar un conjunto de elementos. Al ser inmutable, no se pueden modificar (agregar, eliminar o cambiar) después de su creación, lo que las hace útiles cuando se necesita un conjunto fijo de valores."
      ],
      "metadata": {
        "id": "3whB3zHNM-lO"
      }
    },
    {
      "cell_type": "code",
      "source": [
        "# Creación de Tuplas\n",
        "# Puedes crear una tupla utilizando paréntesis o la función `tuple()`.\n",
        "\n",
        "# Ejemplo 1: Tupla vacía\n",
        "tupla_vacia = ()\n",
        "print(\"Tupla vacía:\", tupla_vacia)"
      ],
      "metadata": {
        "id": "miWFi7haNbir",
        "colab": {
          "base_uri": "https://localhost:8080/"
        },
        "outputId": "148d1134-31e2-4fab-8baf-0bbeddb56729"
      },
      "execution_count": null,
      "outputs": [
        {
          "output_type": "stream",
          "name": "stdout",
          "text": [
            "Tupla vacía: ()\n"
          ]
        }
      ]
    },
    {
      "cell_type": "code",
      "source": [
        "# Ejemplo 2: Tupla con varios elementos\n",
        "tupla_ejemplo = (1, 2, 3, \"Python\", True)\n",
        "print(\"Tupla con elementos:\", tupla_ejemplo)"
      ],
      "metadata": {
        "id": "xKrW0jTsPoIN",
        "colab": {
          "base_uri": "https://localhost:8080/"
        },
        "outputId": "1c8ff9b5-900c-4e77-af70-2dd3d818e2cf"
      },
      "execution_count": null,
      "outputs": [
        {
          "output_type": "stream",
          "name": "stdout",
          "text": [
            "Tupla con elementos: (1, 2, 3, 'Python', True)\n"
          ]
        }
      ]
    },
    {
      "cell_type": "code",
      "source": [
        "tupla_ejemplo[0:3]"
      ],
      "metadata": {
        "id": "mN7RnGIN_xKK",
        "colab": {
          "base_uri": "https://localhost:8080/"
        },
        "outputId": "61d75401-b37d-4979-876e-ca1dee0c70c0"
      },
      "execution_count": null,
      "outputs": [
        {
          "output_type": "execute_result",
          "data": {
            "text/plain": [
              "(1, 2, 3, 'Python')"
            ]
          },
          "metadata": {},
          "execution_count": 36
        }
      ]
    },
    {
      "cell_type": "code",
      "source": [
        "# Ejemplo 3: Crear una tupla usando `tuple()`\n",
        "tupla_a_partir_de_lista = tuple([1, 2, 3, 4])\n",
        "print(\"Tupla creada desde una lista:\", tupla_a_partir_de_lista)"
      ],
      "metadata": {
        "id": "GpR4xtwHPpFL",
        "colab": {
          "base_uri": "https://localhost:8080/"
        },
        "outputId": "25ee98c2-73c9-437c-9b74-3718078885c0"
      },
      "execution_count": null,
      "outputs": [
        {
          "output_type": "stream",
          "name": "stdout",
          "text": [
            "Tupla creada desde una lista: (1, 2, 3, 4)\n"
          ]
        }
      ]
    },
    {
      "cell_type": "code",
      "source": [
        "tupla = tuple([10, 20, 30, 40, 50])\n",
        "print(\"Elemento en el índice 0:\", tupla[0])\n",
        "print(\"Elemento en el índice 3:\", tupla[3])"
      ],
      "metadata": {
        "id": "W54dt-CsPwQD",
        "colab": {
          "base_uri": "https://localhost:8080/"
        },
        "outputId": "d66e66bf-ab36-476c-a219-ae0174374482"
      },
      "execution_count": null,
      "outputs": [
        {
          "output_type": "stream",
          "name": "stdout",
          "text": [
            "Elemento en el índice 0: 10\n",
            "Elemento en el índice 3: 40\n"
          ]
        }
      ]
    },
    {
      "cell_type": "markdown",
      "source": [
        "**Ejercicio 6:** Crea una tupla que contenga el nombre, la edad y la profesión de una persona. Luego, imprime cada elemento por separado."
      ],
      "metadata": {
        "id": "j_oaNnbWR_j2"
      }
    },
    {
      "cell_type": "code",
      "source": [
        "# Ingrese el código\n",
        "nombre = input(\"Ingrese el nombre: \")\n",
        "edad = int(input(\"Ingrese la edad: \"))\n",
        "profesion = input(\"Ingrese la profesión: \")\n",
        "tupla = (nombre,edad,profesion)\n",
        "for i in tupla:\n",
        "  print(i)"
      ],
      "metadata": {
        "id": "Kdnb5f_wSjZ_",
        "colab": {
          "base_uri": "https://localhost:8080/"
        },
        "outputId": "09ee2441-62ea-49c0-a8c6-2c427bb3bc65"
      },
      "execution_count": null,
      "outputs": [
        {
          "output_type": "stream",
          "name": "stdout",
          "text": [
            "Ingrese el nombre: juan\n",
            "Ingrese la edad: 19\n",
            "Ingrese la profesión: estudiante\n",
            "juan\n",
            "19\n",
            "estudiante\n"
          ]
        }
      ]
    },
    {
      "cell_type": "code",
      "source": [
        "# Los índices también pueden ser negativos:\n",
        "print(\"Elemento en el índice -1 (ultimo elemento):\", tupla[-1])\n",
        "print(\"Elemento en el índice -2:\", tupla[-2])"
      ],
      "metadata": {
        "id": "fULxHBevPzG5",
        "colab": {
          "base_uri": "https://localhost:8080/"
        },
        "outputId": "0cf67bd9-2c9c-4f59-d4ec-a24e10d4fdcd"
      },
      "execution_count": null,
      "outputs": [
        {
          "output_type": "stream",
          "name": "stdout",
          "text": [
            "Elemento en el índice -1 (ultimo elemento): estudiante\n",
            "Elemento en el índice -2: 19\n"
          ]
        }
      ]
    },
    {
      "cell_type": "code",
      "source": [
        "# Puedes unir dos tuplas utilizando el operador `+`.\n",
        "tupla1 = (1, 2, 3)\n",
        "tupla2 = (4, 5, 6)\n",
        "tupla_concatenada = tupla1 + tupla2\n",
        "print(\"Tuplas concatenadas:\", tupla_concatenada)"
      ],
      "metadata": {
        "id": "sKtxevpgP56X",
        "colab": {
          "base_uri": "https://localhost:8080/"
        },
        "outputId": "8f1a26fc-799a-4b9b-a736-2129d0b73259"
      },
      "execution_count": null,
      "outputs": [
        {
          "output_type": "stream",
          "name": "stdout",
          "text": [
            "Tuplas concatenadas: (1, 2, 3, 4, 5, 6)\n"
          ]
        }
      ]
    },
    {
      "cell_type": "code",
      "source": [
        "tupla_concatenada"
      ],
      "metadata": {
        "colab": {
          "base_uri": "https://localhost:8080/"
        },
        "id": "UhKhjlSIPQ14",
        "outputId": "31080f65-1d2d-4174-a50a-c0847a1a69d0"
      },
      "execution_count": null,
      "outputs": [
        {
          "output_type": "execute_result",
          "data": {
            "text/plain": [
              "(1, 2, 3, 4, 5, 6)"
            ]
          },
          "metadata": {},
          "execution_count": 45
        }
      ]
    },
    {
      "cell_type": "code",
      "source": [
        "# Usa `in` y `not in` para verificar si un elemento está en la tupla.\n",
        "print(\"3 está en tupla1:\", 3 in tupla1)\n",
        "print(\"7 no está en tupla1:\", 7 not in tupla1)\n",
        "print(\"7 no está en tupla2:\", 7 in tupla_concatenada)\n"
      ],
      "metadata": {
        "id": "SSXXKRRgQAok",
        "colab": {
          "base_uri": "https://localhost:8080/"
        },
        "outputId": "9de0073c-220b-4e8b-df09-0497241e0b43"
      },
      "execution_count": null,
      "outputs": [
        {
          "output_type": "stream",
          "name": "stdout",
          "text": [
            "3 está en tupla1: True\n",
            "7 no está en tupla1: True\n",
            "7 no está en tupla2: False\n"
          ]
        }
      ]
    },
    {
      "cell_type": "code",
      "source": [
        "# Desempaquetado de Tuplas\n",
        "# Puedes asignar los elementos de una tupla a variables de manera directa.\n",
        "tupla = (1, 2, 3)\n",
        "a, b, c = tupla\n",
        "print(\"Valores desempaquetados: a =\", a, \", b =\", b, \", c =\", c)"
      ],
      "metadata": {
        "id": "5_PyyJFjQNYz",
        "colab": {
          "base_uri": "https://localhost:8080/"
        },
        "outputId": "548c9a75-d119-4054-f8d5-1dab14955e6c"
      },
      "execution_count": null,
      "outputs": [
        {
          "output_type": "stream",
          "name": "stdout",
          "text": [
            "Valores desempaquetados: a = 1 , b = 2 , c = 3\n"
          ]
        }
      ]
    },
    {
      "cell_type": "code",
      "source": [
        "# Las tuplas son útiles para retornar múltiples valores de una función.\n",
        "def operaciones_basicas(a, b):\n",
        "  pass"
      ],
      "metadata": {
        "id": "MR4Ywn6tQWCR"
      },
      "execution_count": null,
      "outputs": []
    },
    {
      "cell_type": "markdown",
      "source": [
        "**Ejercicio 7:** Escribe una función que reciba una tupla con tres números y devuelva una nueva tupla con el cuadrado, el cubo y la raiz cuadrada de cada uno de esos números. Usa la función para calcular los valores de la tupla (4, 9, 16).\n"
      ],
      "metadata": {
        "id": "Y_DQ6eVuTaSH"
      }
    },
    {
      "cell_type": "code",
      "source": [
        "# Ingrese el código\n",
        "tupla = (4, 9, 16)\n",
        "tupla2= ()\n",
        "for i in tupla:\n",
        "  tupla2 =tupla2 + (i ** 2 , i ** 3,i ** 0.5)\n",
        "print(tupla2)"
      ],
      "metadata": {
        "id": "V6KTB9DPTlkw",
        "colab": {
          "base_uri": "https://localhost:8080/"
        },
        "outputId": "88c604fb-860f-4d8c-c00d-c94a3d5fec24"
      },
      "execution_count": null,
      "outputs": [
        {
          "output_type": "stream",
          "name": "stdout",
          "text": [
            "(16, 64, 2.0, 81, 729, 3.0, 256, 4096, 4.0)\n"
          ]
        }
      ]
    },
    {
      "cell_type": "markdown",
      "metadata": {
        "id": "rx4vtIcQDKWi"
      },
      "source": [
        "## Conjuntos\n",
        "Los conjuntos son un tipo especial de colecciones de datos pensados para el procesamiento de algebra de conjuntos. Desde esta lógica un conjunto es una colección mutable, no indexada, que puede contener cualquier tipo de dato. Para los conjuntos python también dispone de una clase denominada set. Veremos como trabajar con estas colecciones y sus principales métodos.\n"
      ]
    },
    {
      "cell_type": "code",
      "source": [
        "# Crear un conjunto vacío\n",
        "miConjunto = set() # la palabra reservada para crear un conjunto\n",
        "print(miConjunto)"
      ],
      "metadata": {
        "id": "rIhTfib4Qyvk",
        "colab": {
          "base_uri": "https://localhost:8080/"
        },
        "outputId": "c295a666-9eb7-4e96-bd1f-a5720f91a423"
      },
      "execution_count": null,
      "outputs": [
        {
          "output_type": "stream",
          "name": "stdout",
          "text": [
            "set()\n"
          ]
        }
      ]
    },
    {
      "cell_type": "code",
      "source": [
        "miConjunto = {} # Forma incorrecta de definir un conjunto\n",
        "print(miConjunto)\n",
        "print(type(miConjunto))"
      ],
      "metadata": {
        "id": "LrUdV1mjQ86J",
        "colab": {
          "base_uri": "https://localhost:8080/"
        },
        "outputId": "e37c8c43-4ba9-46bc-b87b-960240b49b26"
      },
      "execution_count": null,
      "outputs": [
        {
          "output_type": "stream",
          "name": "stdout",
          "text": [
            "{}\n",
            "<class 'dict'>\n"
          ]
        }
      ]
    },
    {
      "cell_type": "code",
      "source": [
        "numeros = {1,2,3,4,4,5,6,7,8,9}\n",
        "print(numeros)\n",
        "print(type(numeros))"
      ],
      "metadata": {
        "id": "gWCoW6uNRALM",
        "colab": {
          "base_uri": "https://localhost:8080/"
        },
        "outputId": "98398055-44a4-4a5f-d4c0-8b9a0fc31f36"
      },
      "execution_count": null,
      "outputs": [
        {
          "output_type": "stream",
          "name": "stdout",
          "text": [
            "{1, 2, 3, 4, 5, 6, 7, 8, 9}\n",
            "<class 'set'>\n"
          ]
        }
      ]
    },
    {
      "cell_type": "code",
      "source": [
        "numeros_pares = {2,4,6,8}\n",
        "print(numeros_pares)"
      ],
      "metadata": {
        "id": "iXSyEfaSREMd",
        "colab": {
          "base_uri": "https://localhost:8080/"
        },
        "outputId": "c54af991-f284-4b06-ba78-6bd16983cd4b"
      },
      "execution_count": null,
      "outputs": [
        {
          "output_type": "stream",
          "name": "stdout",
          "text": [
            "{8, 2, 4, 6}\n"
          ]
        }
      ]
    },
    {
      "cell_type": "code",
      "source": [
        "# método pop elimina valores al asar\n",
        "numeros_pares.pop()\n",
        "print(numeros_pares)"
      ],
      "metadata": {
        "id": "DTDESUHhRV1U",
        "colab": {
          "base_uri": "https://localhost:8080/"
        },
        "outputId": "052f6c56-ca55-4b72-9f8f-b78b92461679"
      },
      "execution_count": null,
      "outputs": [
        {
          "output_type": "stream",
          "name": "stdout",
          "text": [
            "{2, 4, 6}\n"
          ]
        }
      ]
    },
    {
      "cell_type": "code",
      "source": [
        "# método add agrega valores\n",
        "numeros_pares.add(10)\n",
        "print(numeros_pares)"
      ],
      "metadata": {
        "id": "Y-Hp2_QBRVuB"
      },
      "execution_count": null,
      "outputs": []
    },
    {
      "cell_type": "code",
      "source": [
        "# método discard permite eliminar un valor en especifico\n",
        "numeros_pares.discard(2)\n",
        "print(numeros_pares)"
      ],
      "metadata": {
        "id": "mNGRhnrSRVr_"
      },
      "execution_count": null,
      "outputs": []
    },
    {
      "cell_type": "code",
      "source": [
        "# método remove elimina tambien para un valor en especifico  y si no encontra el valor generar un error  el discard no genera el error\n",
        "numeros_pares.remove(4)\n",
        "print(numeros_pares)"
      ],
      "metadata": {
        "id": "Soc1ylz-RVpt",
        "colab": {
          "base_uri": "https://localhost:8080/"
        },
        "outputId": "843e39ed-6230-4eb3-9cfa-81ea98616c80"
      },
      "execution_count": null,
      "outputs": [
        {
          "output_type": "stream",
          "name": "stdout",
          "text": [
            "{2, 6}\n"
          ]
        }
      ]
    },
    {
      "cell_type": "code",
      "source": [
        "for i in numeros_pares:\n",
        "  print(i)"
      ],
      "metadata": {
        "id": "l2rZyrLdn-fM",
        "colab": {
          "base_uri": "https://localhost:8080/"
        },
        "outputId": "31e02580-f463-4084-9000-e1a9bfd77cbd"
      },
      "execution_count": null,
      "outputs": [
        {
          "output_type": "stream",
          "name": "stdout",
          "text": [
            "2\n",
            "6\n"
          ]
        }
      ]
    },
    {
      "cell_type": "code",
      "source": [
        "# método clear permite elimina todos los valores del conjunto\n",
        "numeros_pares = {0,2,4,6,8}\n",
        "numeros_pares.clear()\n",
        "print(numeros_pares)"
      ],
      "metadata": {
        "id": "EvmIlwwiRb9q",
        "colab": {
          "base_uri": "https://localhost:8080/"
        },
        "outputId": "b2b7d150-41a2-44f1-dddd-232c5421a08c"
      },
      "execution_count": null,
      "outputs": [
        {
          "output_type": "stream",
          "name": "stdout",
          "text": [
            "set()\n"
          ]
        }
      ]
    },
    {
      "cell_type": "markdown",
      "source": [
        "## Diccionarios\n",
        "Un diccionario es un tipo de colección de datos que permite almacenar información a manera de claves y valores (clave:valor). Se caracterizan por ser mutables, indexados y por contener cualquier tipo de datos. Python incorpora la clase dict para proporcionar métodos de manipulación de diccionarios."
      ],
      "metadata": {
        "id": "LI7rxNUANBUT"
      }
    },
    {
      "cell_type": "code",
      "source": [
        "# Creación de diccionarios vacíos\n",
        "miDiccionario = dict() #palabra reservada dict\n",
        "print(miDiccionario)\n",
        "miDiccionario = {}\n",
        "print(miDiccionario)"
      ],
      "metadata": {
        "id": "eYuPwZV1LL1G"
      },
      "execution_count": null,
      "outputs": []
    },
    {
      "cell_type": "code",
      "source": [
        "# Creación de un diccionario\n",
        "miDiccionario = {'Alejo':34,'Felipe':45,'Camila':16,'Jhoana':18} # la clave es las 2 comillas simples '' o \"\" es la clave y : es el valor\n",
        "print(miDiccionario)"
      ],
      "metadata": {
        "id": "ZnqJxM9rLnpm",
        "colab": {
          "base_uri": "https://localhost:8080/"
        },
        "outputId": "87990932-22c8-4118-a9ea-b495d05c5972"
      },
      "execution_count": null,
      "outputs": [
        {
          "output_type": "stream",
          "name": "stdout",
          "text": [
            "{'Alejo': 34, 'Felipe': 45, 'Camila': 16, 'Jhoana': 18}\n"
          ]
        }
      ]
    },
    {
      "cell_type": "code",
      "source": [
        "print(miDiccionario['Alejo'])\n"
      ],
      "metadata": {
        "colab": {
          "base_uri": "https://localhost:8080/"
        },
        "id": "LUlrrnF0QJR7",
        "outputId": "32bb4eb3-e97f-477d-dd33-8a834d0e1cb5"
      },
      "execution_count": null,
      "outputs": [
        {
          "output_type": "stream",
          "name": "stdout",
          "text": [
            "34\n"
          ]
        }
      ]
    },
    {
      "cell_type": "code",
      "source": [
        "miDiccionario['Daniel'] = 75\n",
        "print(miDiccionario)"
      ],
      "metadata": {
        "colab": {
          "base_uri": "https://localhost:8080/"
        },
        "id": "05P8yXuLQnOk",
        "outputId": "2abe13b7-2582-4825-fee6-62b46bf59573"
      },
      "execution_count": null,
      "outputs": [
        {
          "output_type": "stream",
          "name": "stdout",
          "text": [
            "{'Alejo': 34, 'Felipe': 45, 'Camila': 16, 'Jhoana': 18, 'Daniel': 75}\n"
          ]
        }
      ]
    },
    {
      "cell_type": "code",
      "source": [
        "# indexación en diccionarios\n",
        "print(miDiccionario['Felipe'])"
      ],
      "metadata": {
        "id": "8AynFLZtLon1",
        "colab": {
          "base_uri": "https://localhost:8080/"
        },
        "outputId": "5cf5506c-b39e-48c2-9c72-1ad67ae92e79"
      },
      "execution_count": null,
      "outputs": [
        {
          "output_type": "stream",
          "name": "stdout",
          "text": [
            "45\n"
          ]
        }
      ]
    },
    {
      "cell_type": "code",
      "source": [
        "# Mutabilidad de los diccionarios\n",
        "miDiccionario['Felipe'] = 'string'\n",
        "print(miDiccionario)"
      ],
      "metadata": {
        "id": "f5cJRZJtMASm",
        "colab": {
          "base_uri": "https://localhost:8080/"
        },
        "outputId": "e9933a60-88a6-4a97-9412-caf9b0c8664a"
      },
      "execution_count": null,
      "outputs": [
        {
          "output_type": "stream",
          "name": "stdout",
          "text": [
            "{'Alejo': 34, 'Felipe': 'string', 'Camila': 16, 'Jhoana': 18, 'Daniel': 75}\n"
          ]
        }
      ]
    },
    {
      "cell_type": "code",
      "source": [
        "# método items me permite mostrar todos items del diccionario\n",
        "miDiccionario.items()"
      ],
      "metadata": {
        "id": "i_WbO7UBMBPe",
        "colab": {
          "base_uri": "https://localhost:8080/"
        },
        "outputId": "7a2b5db9-41a7-45fd-cfbc-b661527c0efe"
      },
      "execution_count": null,
      "outputs": [
        {
          "output_type": "execute_result",
          "data": {
            "text/plain": [
              "dict_items([('Alejo', 34), ('Felipe', 'string'), ('Camila', 16), ('Jhoana', 18), ('Daniel', 75)])"
            ]
          },
          "metadata": {},
          "execution_count": 31
        }
      ]
    },
    {
      "cell_type": "code",
      "source": [
        "#\n",
        "for i,j in miDiccionario.items():\n",
        "  print(i,j ,  end = \"----- \") # el end  =  \" \" nos dice que no vaa aver salto de linea si no un espacio  el end es el final"
      ],
      "metadata": {
        "id": "fvq79K9QALOg",
        "colab": {
          "base_uri": "https://localhost:8080/"
        },
        "outputId": "a520a6fd-883c-4ddc-bf4a-6a10e294d2ba"
      },
      "execution_count": null,
      "outputs": [
        {
          "output_type": "stream",
          "name": "stdout",
          "text": [
            "Alejo 34----- Felipe string----- Camila 16----- Jhoana 18----- Daniel 75----- "
          ]
        }
      ]
    },
    {
      "cell_type": "code",
      "source": [
        "print(miDiccionario)"
      ],
      "metadata": {
        "colab": {
          "base_uri": "https://localhost:8080/"
        },
        "id": "rBnPkpfQS2Fw",
        "outputId": "3be0b5e5-c029-4629-9fbd-1bd00f761c24"
      },
      "execution_count": null,
      "outputs": [
        {
          "output_type": "stream",
          "name": "stdout",
          "text": [
            "{'Alejo': 34, 'Felipe': 'string', 'Camila': 16, 'Jhoana': 18, 'Daniel': 75}\n"
          ]
        }
      ]
    },
    {
      "cell_type": "code",
      "source": [
        "# método keys  imprime en forma de listas con las []\n",
        "miDiccionario.keys()"
      ],
      "metadata": {
        "id": "jV7EQWV5MieX"
      },
      "execution_count": null,
      "outputs": []
    },
    {
      "cell_type": "code",
      "source": [
        "# método values\n",
        "miDiccionario.values()"
      ],
      "metadata": {
        "id": "s4LzfxrNUQRm"
      },
      "execution_count": null,
      "outputs": []
    },
    {
      "cell_type": "code",
      "source": [
        "miDiccionario.items()"
      ],
      "metadata": {
        "id": "t14Mj7F337HY"
      },
      "execution_count": null,
      "outputs": []
    },
    {
      "cell_type": "code",
      "source": [
        "miDiccionario['Daniel'] = 20"
      ],
      "metadata": {
        "id": "GYIzLmHG3_SR"
      },
      "execution_count": null,
      "outputs": []
    },
    {
      "cell_type": "code",
      "source": [
        "miDiccionario"
      ],
      "metadata": {
        "id": "UMcjUesu4Dkc"
      },
      "execution_count": null,
      "outputs": []
    },
    {
      "cell_type": "markdown",
      "source": [
        "**Ejercicio 10:**\n",
        "\n",
        "Escribir un programa que pregunte al usuario su nombre, edad, barrio y teléfono y lo guarde en un diccionario. Después debe mostrar por pantalla el mensaje 'Nombre' tiene 'edad' años, vive en 'barrio' y su número de teléfono es 'telefono'."
      ],
      "metadata": {
        "id": "wiH3KEi7VGD_"
      }
    },
    {
      "cell_type": "code",
      "source": [
        "# Ejercicio 10"
      ],
      "metadata": {
        "id": "wzUsJ3q0V3Kg"
      },
      "execution_count": null,
      "outputs": []
    },
    {
      "cell_type": "code",
      "source": [
        "# método formkeys\n",
        "x = ('key1','key2','key3')\n",
        "y = 0\n",
        "miDiccionario = dict.fromkeys(x,y)\n",
        "print(miDiccionario)"
      ],
      "metadata": {
        "id": "mpqO0GcJUZzO",
        "colab": {
          "base_uri": "https://localhost:8080/"
        },
        "outputId": "bf536f9a-e7d0-4101-deab-3db9aed88040"
      },
      "execution_count": null,
      "outputs": [
        {
          "output_type": "stream",
          "name": "stdout",
          "text": [
            "{'key1': 0, 'key2': 0, 'key3': 0}\n"
          ]
        }
      ]
    },
    {
      "cell_type": "code",
      "source": [
        "miDiccionario[\"key1\"] = 1"
      ],
      "metadata": {
        "id": "kOzmjf5v-EHm"
      },
      "execution_count": null,
      "outputs": []
    },
    {
      "cell_type": "code",
      "source": [
        "# método pop\n",
        "valor = miDiccionario.pop('key1') # permite  eliminar el dato que le digamos en esta caso key1"
      ],
      "metadata": {
        "id": "jL5xNXnaUZwh"
      },
      "execution_count": null,
      "outputs": []
    },
    {
      "cell_type": "code",
      "source": [
        "valor"
      ],
      "metadata": {
        "id": "h5V4pw4C-hv5",
        "colab": {
          "base_uri": "https://localhost:8080/"
        },
        "outputId": "3f378f18-293c-4d0c-c837-73ff093c496b"
      },
      "execution_count": null,
      "outputs": [
        {
          "output_type": "execute_result",
          "data": {
            "text/plain": [
              "1"
            ]
          },
          "metadata": {},
          "execution_count": 7
        }
      ]
    },
    {
      "cell_type": "code",
      "source": [
        "miDiccionario"
      ],
      "metadata": {
        "id": "KXkhbcIr-mUy",
        "colab": {
          "base_uri": "https://localhost:8080/"
        },
        "outputId": "011a7c5f-e05c-4d97-8e0b-f8cd5f0673fa"
      },
      "execution_count": null,
      "outputs": [
        {
          "output_type": "execute_result",
          "data": {
            "text/plain": [
              "{'key3': 0}"
            ]
          },
          "metadata": {},
          "execution_count": 8
        }
      ]
    },
    {
      "cell_type": "code",
      "source": [
        "# metodo del\n",
        "del miDiccionario[\"key2\"] # nos permite eliminar tambien"
      ],
      "metadata": {
        "id": "pmsPGl41UZt9"
      },
      "execution_count": null,
      "outputs": []
    },
    {
      "cell_type": "code",
      "source": [
        "miDiccionario"
      ],
      "metadata": {
        "id": "g0jHhFr8-yVY"
      },
      "execution_count": null,
      "outputs": []
    },
    {
      "cell_type": "code",
      "source": [
        "miDiccionario['key4'] = 5"
      ],
      "metadata": {
        "id": "sGMFSDfcAuiT"
      },
      "execution_count": null,
      "outputs": []
    },
    {
      "cell_type": "code",
      "source": [
        "miDiccionario"
      ],
      "metadata": {
        "id": "POKCuo-uA_ad"
      },
      "execution_count": null,
      "outputs": []
    },
    {
      "cell_type": "markdown",
      "source": [
        "**Ejercicio 11:**\n",
        "\n",
        "Escribe un programa que lea una cadena y devuelva un diccionario con la cantidad de apariciones de cada carácter en la cadena.\n"
      ],
      "metadata": {
        "id": "5Lal97WAX_r-"
      }
    },
    {
      "cell_type": "code",
      "source": [
        "# Ingrese código\n",
        "cadena = input (\"ingrese una cadena: \")\n",
        "diccionario = {}\n",
        "for i in cadena:\n",
        "  if i in diccionario:\n",
        "    diccionario[i] += 1\n",
        "  else:\n",
        "    diccionario[i] = 1\n",
        "print(diccionario)"
      ],
      "metadata": {
        "id": "QKeXEViIX_Pu"
      },
      "execution_count": null,
      "outputs": []
    },
    {
      "cell_type": "markdown",
      "source": [
        "**Ejercicio 12:**\n",
        "\n",
        "Escribir un programa que gestione las facturas pendientes de cobro de una empresa. Las facturas se almacenarán en un diccionario donde la clave de cada factura será el número de factura y el valor el coste de la factura. El programa debe preguntar al usuario si quiere añadir una nueva factura, pagar una existente o terminar. Si desea añadir una nueva factura se preguntará por el número de factura y su coste y se añadirá al diccionario. Si se desea pagar una factura se preguntará por el número de factura y se eliminará del diccionario. Después de cada operación el programa debe mostrar por pantalla la cantidad cobrada hasta el momento y la cantidad pendiente de cobro."
      ],
      "metadata": {
        "id": "8J3xL2c0YG_K"
      }
    },
    {
      "cell_type": "code",
      "source": [],
      "metadata": {
        "id": "BHyxOK6TwBci"
      },
      "execution_count": null,
      "outputs": []
    },
    {
      "cell_type": "code",
      "source": [
        "# Diccionario para guardar las facturas\n",
        "facturas = {}\n",
        "cobrado = 0.0  # Total cobrado hasta el momento\n",
        "\n",
        "opcion = input(\"¿Desea añadir una nueva factura, pagar una existente o terminar? \")\n",
        "\n",
        "while opcion != \"terminar\":\n",
        "    if opcion == \"añadir\":\n",
        "        numero_factura = input(\"Ingrese el número de factura: \")\n",
        "        coste_factura = float(input(\"Ingrese el coste de la factura: \"))\n",
        "        facturas[numero_factura] = coste_factura\n",
        "        print(f\"Factura {numero_factura} añadida por ${coste_factura:.2f}\")\n",
        "\n",
        "    elif opcion == \"pagar\":\n",
        "        numero_factura = input(\"Ingrese el número de factura a pagar: \")\n",
        "        if numero_factura in facturas:\n",
        "            cobrado += facturas[numero_factura]   # Sumamos al total cobrado\n",
        "            print(f\"Factura {numero_factura} pagada por ${facturas[numero_factura]:.2f}\")\n",
        "            del facturas[numero_factura]\n",
        "        else:\n",
        "            print(\"La factura no existe.\")\n",
        "\n",
        "    else:\n",
        "        print(\"Opción inválida.\")\n",
        "\n",
        "    pendiente = sum(facturas.values())\n",
        "    print(f\"\\nCantidad cobrada: ${cobrado:.2f}\")\n",
        "    print(f\"Cantidad pendiente de cobro: ${pendiente:.2f}\\n\")\n",
        "\n",
        "    opcion = input(\"¿Desea añadir una nueva factura, pagar una existente o terminar? \")\n",
        "\n",
        "print(\"Programa terminado.\")\n"
      ],
      "metadata": {
        "id": "-t067ApdXdvv",
        "colab": {
          "base_uri": "https://localhost:8080/"
        },
        "outputId": "6eae5efc-cf83-4055-ca3a-dd9bcca756ec"
      },
      "execution_count": null,
      "outputs": [
        {
          "output_type": "stream",
          "name": "stdout",
          "text": [
            "¿Desea añadir una nueva factura, pagar una existente o terminar? añadir\n",
            "Ingrese el número de factura: 1514\n",
            "Ingrese el coste de la factura: 14\n",
            "Factura 1514 añadida por $14.00\n",
            "\n",
            "Cantidad cobrada: $0.00\n",
            "Cantidad pendiente de cobro: $14.00\n",
            "\n",
            "¿Desea añadir una nueva factura, pagar una existente o terminar? añadir\n",
            "Ingrese el número de factura: 4548\n",
            "Ingrese el coste de la factura: 125\n",
            "Factura 4548 añadida por $125.00\n",
            "\n",
            "Cantidad cobrada: $0.00\n",
            "Cantidad pendiente de cobro: $139.00\n",
            "\n",
            "¿Desea añadir una nueva factura, pagar una existente o terminar? añadir\n",
            "Ingrese el número de factura: 1235\n",
            "Ingrese el coste de la factura: 1254\n",
            "Factura 1235 añadida por $1254.00\n",
            "\n",
            "Cantidad cobrada: $0.00\n",
            "Cantidad pendiente de cobro: $1393.00\n",
            "\n",
            "¿Desea añadir una nueva factura, pagar una existente o terminar? pagar\n",
            "Ingrese el número de factura a pagar: 1235\n",
            "Factura 1235 pagada por $1254.00\n",
            "\n",
            "Cantidad cobrada: $1254.00\n",
            "Cantidad pendiente de cobro: $139.00\n",
            "\n",
            "¿Desea añadir una nueva factura, pagar una existente o terminar? terminar\n",
            "Programa terminado.\n"
          ]
        }
      ]
    },
    {
      "cell_type": "code",
      "source": [
        "print(facturas)"
      ],
      "metadata": {
        "colab": {
          "base_uri": "https://localhost:8080/"
        },
        "id": "BNP5Ln9YDa1v",
        "outputId": "b648435b-b4f9-412d-aace-e145a363d689"
      },
      "execution_count": null,
      "outputs": [
        {
          "output_type": "stream",
          "name": "stdout",
          "text": [
            "{'1234': 21.0, '12345': 32.0}\n"
          ]
        }
      ]
    },
    {
      "cell_type": "code",
      "source": [
        "# Escribe una función que tome el radio de un círculo como argumento y devuelva su área y perímetro\n",
        "radio = input (\"ingrese el radio del circulo: \")\n",
        "def area_perimetro_circulo(radio):\n",
        "    area = 3.14 * radio ** 2\n",
        "    perimetro = 2 * 3.14 * radio\n",
        "    return area, perimetro"
      ],
      "metadata": {
        "colab": {
          "base_uri": "https://localhost:8080/"
        },
        "id": "4irvDw0AKySN",
        "outputId": "d23c3f22-218f-4c51-f28f-4ad373892a9f"
      },
      "execution_count": null,
      "outputs": [
        {
          "name": "stdout",
          "output_type": "stream",
          "text": [
            "ingrese el radio del circulo: 10\n"
          ]
        }
      ]
    },
    {
      "cell_type": "code",
      "source": [
        "conjunto = {1,2,2,3,4}\n",
        "print(conjunto)"
      ],
      "metadata": {
        "colab": {
          "base_uri": "https://localhost:8080/"
        },
        "id": "bff6PnUuW0-g",
        "outputId": "177b6918-328e-492d-d567-fc7a60fbd80f"
      },
      "execution_count": null,
      "outputs": [
        {
          "output_type": "stream",
          "name": "stdout",
          "text": [
            "{1, 2, 3, 4}\n"
          ]
        }
      ]
    }
  ],
  "metadata": {
    "interpreter": {
      "hash": "f763d8e2851846307b55adf28ed2ff838d215bec0f7704f5a897039faa0112d6"
    },
    "kernelspec": {
      "display_name": "Python 3.10.2 64-bit",
      "language": "python",
      "name": "python3"
    },
    "language_info": {
      "codemirror_mode": {
        "name": "ipython",
        "version": 3
      },
      "file_extension": ".py",
      "mimetype": "text/x-python",
      "name": "python",
      "nbconvert_exporter": "python",
      "pygments_lexer": "ipython3",
      "version": "3.10.2"
    },
    "orig_nbformat": 4,
    "colab": {
      "provenance": [],
      "include_colab_link": true
    }
  },
  "nbformat": 4,
  "nbformat_minor": 0
}